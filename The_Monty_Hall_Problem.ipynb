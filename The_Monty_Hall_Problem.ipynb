{
 "cells": [
  {
   "cell_type": "markdown",
   "metadata": {
    "id": "gK-gr6vOm3jT"
   },
   "source": [
    "<h1><center><b> The Monty Hall Problem</b></center></h1>"
   ]
  },
  {
   "cell_type": "markdown",
   "metadata": {
    "id": "vmDqGcqynZWB"
   },
   "source": [
    "The Monty Hall problem is a probability puzzle named after Monty Hall, the original host of the TV show Let’s Make a Deal. It’s a famous paradox that has a solution that is so absurd, most people refuse to believe it’s true.<br><br>\n",
    "\n",
    "\n",
    "<b>Problem Statement - </b><br>\n",
    "\n",
    "Suppose you’re on a game show, and you’re given the choice of three doors: Behind one door is a car; behind the others, goats. You pick a door, say No. 1, and the host, who knows what’s behind the doors, opens another door, say No. 3, which has a goat. He then says to you, “Do you want to pick door No. 2?” Is it to your advantage to switch your choice? ~ (From Parade magazine’s Ask Marilyn column) \n",
    "![picture](https://drive.google.com/uc?export=view&id=1LnZjQJCWET5EpMnEe97GD2PkB53Uozjb)\n",
    "\n",
    "\n",
    "Or in a more general way, instead of just 3 doors imagine you're given n doors and the host opens n-2 doors after you make your choice, leaving you with the choice that you made initially and just one other. Now, if you/re asked to stay on your choice or switch what will you do? Do you stay or switch? Which will be the better option?\n",
    "<br><br>\n",
    "\n",
    "<b>Solution - </b>\n",
    "\n",
    "You should always switch. But why?\n",
    "\n",
    "Lets take a look on the theory behind the solution and then simulate the same scenario to get the experimental evidence that what the theory says actually happens and understand it completely as the solution to this problem seems absurd at first sight.\n"
   ]
  },
  {
   "cell_type": "markdown",
   "metadata": {
    "id": "Gw8-3619wWkJ"
   },
   "source": [
    "\n",
    "<P align=\"right\">Referenced from - <a href=“https://en.wikipedia.org/wiki/Monty_Hall_problem”>Wikipedia</a></P>\n",
    "\n",
    "\n",
    "\n",
    "<center><h3><b>3 Doors</b></h3><br></center>\n",
    "\n",
    "**Bayes' theorem**\n",
    "\n",
    "\n",
    "Initially, the car is equally likely to be behind any of the three doors: the odds on door 1, door 2, and door 3 are 1 : 1 : 1. This remains the case after the player has chosen door 1, by independence. According to Bayes' rule, the posterior odds on the location of the car, given that the host opens door 3, are equal to the prior odds multiplied by the Bayes factor or likelihood, which is, by definition, the probability of the new piece of information (host opens door 3) under each of the hypotheses considered (location of the car). Now, since the player initially chose door 1, the chance that the host opens door 3 is 50% if the car is behind door 1, 100% if the car is behind door 2, 0% if the car is behind door 3. Thus the Bayes factor consists of the ratios \n",
    "1\n",
    "/\n",
    "2\n",
    " : 1 : 0 or equivalently 1 : 2 : 0, while the prior odds were 1 : 1 : 1. Thus, the posterior odds become equal to the Bayes factor 1 : 2 : 0. Given that the host opened door 3, the probability that the car is behind door 3 is zero, and it is twice as likely to be behind door 2 than door 1.\n",
    "\n",
    "Richard Gill in his book analyzes the likelihood for the host to open door 3 as follows. Given that the car is not behind door 1, it is equally likely that it is behind door 2 or 3. Therefore, the chance that the host opens door 3 is 50%. Given that the car is behind door 1, the chance that the host opens door 3 is also 50%, because, when the host has a choice, either choice is equally likely. Therefore, whether or not the car is behind door 1, the chance that the host opens door 3 is 50%. The information \"host opens door 3\" contributes a Bayes factor or likelihood ratio of 1 : 1, on whether or not the car is behind door 1. Initially, the odds against door 1 hiding the car were 2 : 1. Therefore, the posterior odds against door 1 hiding the car remain the same as the prior odds, 2 : 1.\n",
    "\n",
    "In words, the information which door is opened by the host (door 2 or door 3?) reveals no information at all about whether or not the car is behind door 1, and this is precisely what is alleged to be intuitively obvious by supporters of simple solutions, or using the idioms of mathematical proofs, \"obviously true, by symmetry\".\n",
    "\n",
    "**Direct calculation**\n",
    "\n",
    "Consider the event Ci, indicating that the car is behind door number i, takes value Xi, for the choosing of the player, and value Hi, for the host opening the door. The player initially chooses door i = 1, C = X1 and the host opens door i = 3, C = H3.\n",
    "\n",
    "In this case, we have:\n",
    "\n",
    "\\begin{aligned}P(H3|C1,X1)&={\\tfrac {1}{2}}\n",
    "\\\\P(H3|C2,X1)&=1\\\\P(H3|C3,X1)&=0\n",
    "\\\\P(Ci)&={\\tfrac {1}{3}}\n",
    "\\\\P(Ci,Xi)&=P(Ci)P(Xi)\n",
    "\\\\P(H3|X1)&={\\tfrac {1}{2}}\n",
    "\\\\\\end{aligned}\n",
    "\n",
    "P(H3|X1) = 1/2 because this expression only depends on X1, not on any Ci. So, in this particular expression, the choosing of the host does not depend on where the car is, and there's only two remaining doors once X1 is chosen (for instance, P(H1|X1) = 0); and P(Ci,Xi) = P(Ci)P(Xi) because Ci and Xi are independent events (the player does not know where the car is in order to make a choice).\n",
    "\n",
    "Then, if the player initially selects door 1, and the host opens door 3, we prove that the conditional probability of winning by switching is:\n",
    "\n",
    "\\begin{aligned}P(C2|H3,X1)&={\\tfrac {2}{3}}\n",
    "\\end{aligned}\n",
    "\n",
    "From the Bayes' rule, we know that P(A,B) = P(A|B)P(B) = P(B|A)P(A). Extending this logic to multiple events, for example A, B and C, we get that we can play with the different subsets of {A, B, C} to calculate the probability of the intersection, as a tool to simplify the calculation of our conditional probability:\n",
    "\n",
    "\\begin{aligned}P(A,B,C)&=P(A|B,C)P(B,C)\n",
    "\\\\&=P(B|A,C)P(A,C)\n",
    "\\\\&=P(C|A,B)P(A,B)\n",
    "\\\\&=P(A,B|C)P(C)\n",
    "\\\\&=P(A,C|B)P(B)\n",
    "\\\\&=P(B,C|A)P(A)\n",
    "\\end{aligned}\n",
    "<br>In our case, since we know that P(H3|C2,X1) = 1, we are in luck:<br>\n",
    "\n",
    "\n",
    "\\begin{aligned}P(C2|H3,X1)&={\\frac {P(C2,H3,X1)}{P(H3,X1)}}={\\frac {P(H3|C2,X1)P(C2,X1)}{P(H3,X1)}}={\\frac {P(C2)P(X1)}{P(H3|X1)P(X1)}}={\\frac {1/3}{1/2}}={\\frac {2}{3}}\\end{aligned}\n",
    "\n",
    "<br><br>\n",
    "\n",
    "<center><h3><b>N Doors</b></h3><br></center>\n",
    "\n",
    "D. L. Ferguson (1975 in a letter to Selvin) suggests an N-door generalization of the original problem in which the host opens p losing doors and then offers the player the opportunity to switch; in this variant switching wins with probability \n",
    "\n",
    "<center>1/N * (N-1)/(N-p-1)</center> \n",
    "\n",
    "This probability is always greater than 1/N, therefore switching always brings an advantage.\n",
    "\n",
    "Even if the host opens only a single door (p=1), the player is better off switching in every case. As N grows larger, the advantage decreases and approaches zero. At the other extreme, if the host opens all losing doors but one (p = N − 2) the advantage increases as N grows large (the probability of winning by switching is (N − 1)/N, which approaches 1 as N grows very large)."
   ]
  },
  {
   "cell_type": "markdown",
   "metadata": {
    "id": "IV08Th_h5f09"
   },
   "source": [
    "<center><h2><b>Simulating the Game</b></h2></center>"
   ]
  },
  {
   "cell_type": "code",
   "execution_count": 1,
   "metadata": {
    "ExecuteTime": {
     "end_time": "2023-02-07T14:39:03.696480Z",
     "start_time": "2023-02-07T14:39:02.135065Z"
    },
    "id": "7WfYfIsZBZTi"
   },
   "outputs": [],
   "source": [
    "import numpy as np\n",
    "import pandas as pd\n",
    "import random as rnd\n",
    "from tqdm import tqdm\n",
    "import seaborn as sns\n",
    "import matplotlib.pyplot as plt"
   ]
  },
  {
   "cell_type": "code",
   "execution_count": 2,
   "metadata": {
    "ExecuteTime": {
     "end_time": "2023-02-07T14:39:03.724405Z",
     "start_time": "2023-02-07T14:39:03.699491Z"
    },
    "id": "g74e7f82B8OW"
   },
   "outputs": [],
   "source": [
    "class GAME:\n",
    "    \n",
    "    \"\"\"Choose ONE door out of N doors\"\"\"\n",
    "\n",
    "    def __init__(self,numberOfCars = 1, numberOfDoors = 3 , randomSelect = False , openLessDoors = False , numberOfDoorsToOpen = -1):\n",
    "\n",
    "        self.game = {}\n",
    "        self.carDoors = []\n",
    "        self.choice = 0\n",
    "        self.numberOfCars = numberOfCars\n",
    "        self.numberOfGoats = numberOfDoors - numberOfCars\n",
    "        self.numberOfDoors = numberOfDoors\n",
    "        if(openLessDoors):\n",
    "            if(numberOfDoorsToOpen == -1):\n",
    "                self.numberOfDoorsToOpen = int(input(\"Number Of Doors To Open:\"))\n",
    "            else:\n",
    "                self.numberOfDoorsToOpen = numberOfDoorsToOpen\n",
    "        else:\n",
    "            self.numberOfDoorsToOpen = numberOfDoors - numberOfCars - 1\n",
    "\n",
    "        cars = [\"car\"]*self.numberOfCars\n",
    "        goats = [\"goat\"]*self.numberOfGoats\n",
    "        things = cars + goats\n",
    "        rnd.shuffle(things)\n",
    "\n",
    "        for i in range(numberOfDoors):\n",
    "      \n",
    "            self.game[i+1] = (False , things[i])\n",
    "      \n",
    "            if (things[i] == \"car\"):\n",
    "                self.carDoors.append(i+1)\n",
    "\n",
    "        if (randomSelect == False):\n",
    "            self.choice = int(input(\"\\nCHOOSE ONE DOOR: \"))\n",
    "        else:\n",
    "            self.choice = rnd.choice(range(1,numberOfDoors+1))\n",
    "\n",
    "    def openDoors(self):\n",
    "    \n",
    "        doorList = set(self.game.keys()) \n",
    "        doorsToOpen = doorList.copy() #Set of Doors from which to choose the doors that will be opened\n",
    "\n",
    "        doorsToOpen.remove(self.choice)\n",
    "        for door in self.carDoors:\n",
    "            doorsToOpen.discard(door)\n",
    "\n",
    "        openedDoors = set()\n",
    "        while (len(openedDoors) < self.numberOfDoorsToOpen):\n",
    "            doorChoice = rnd.choice(list(doorsToOpen))\n",
    "            doorsToOpen.remove(doorChoice)\n",
    "            openedDoors.add(doorChoice)\n",
    "\n",
    "        doorsLeft = doorList - openedDoors\n",
    "\n",
    "        for i in doorsLeft:\n",
    "            temp = self.game[i]\n",
    "            self.game[i] = (True,temp[1])\n",
    "\n",
    "\n",
    "    def changeChoice(self):\n",
    "        choices = []\n",
    "        for i in list(self.game.keys()):\n",
    "            if(self.game[i][0] == True):\n",
    "                choices.append(i)\n",
    "        choices.remove(self.choice)\n",
    "        self.choice = rnd.choice(choices)"
   ]
  },
  {
   "cell_type": "markdown",
   "metadata": {
    "id": "SX2RG5WB5_4O"
   },
   "source": [
    "<center><b><h3>Game with 3 doors & 1 door is opened after having made choice.</h3></b></center>"
   ]
  },
  {
   "cell_type": "markdown",
   "metadata": {
    "id": "uikqtcbN6VKu"
   },
   "source": [
    "<h4>Simulating Game 10000 times</h4>\n",
    "\n"
   ]
  },
  {
   "cell_type": "markdown",
   "metadata": {
    "id": "WQ9FMig38Od8"
   },
   "source": [
    "1. <h5>switching choice in each game</h5>"
   ]
  },
  {
   "cell_type": "code",
   "execution_count": 3,
   "metadata": {
    "ExecuteTime": {
     "end_time": "2023-02-07T14:39:03.945125Z",
     "start_time": "2023-02-07T14:39:03.730389Z"
    },
    "colab": {
     "base_uri": "https://localhost:8080/"
    },
    "id": "QD_yj_fjZYOr",
    "outputId": "cbb95c70-e80f-4409-a018-cefc92d0054d"
   },
   "outputs": [
    {
     "name": "stderr",
     "output_type": "stream",
     "text": [
      "100%|█████████████████████████████████████████████████████████████████████████| 10000/10000 [00:00<00:00, 62455.48it/s]\n"
     ]
    }
   ],
   "source": [
    "df = pd.DataFrame(columns = [\"door_1\" , \"door_2\" , \"door_3\" , \"opened_door\" , \"initial_choice\" , \"final_choice\" , \"win\"])\n",
    "\n",
    "door_1 = []\n",
    "door_2 = []\n",
    "door_3 = []\n",
    "opened_door = []\n",
    "initial_choice = []\n",
    "final_choice = []\n",
    "win = []\n",
    "\n",
    "doors = 3\n",
    "for i in tqdm(range(1,10001)):\n",
    "    G = GAME(numberOfDoors = doors , randomSelect = True)\n",
    "    G.openDoors()\n",
    "\n",
    "    door_1.append(0 if (G.game[1][1] == \"goat\") else 1)\n",
    "    door_2.append(0 if (G.game[2][1] == \"goat\") else 1)\n",
    "    door_3.append(0 if (G.game[3][1] == \"goat\") else 1)\n",
    "\n",
    "    for i in range(1,doors+1):\n",
    "        if(G.game[i][0] == False):\n",
    "            opened_door.append(i)\n",
    "\n",
    "    initial_choice.append(G.choice)\n",
    "    G.changeChoice()\n",
    "    final_choice.append(G.choice)\n",
    "\n",
    "    win.append(\"won\" if(G.game[G.choice][1] == \"car\") else \"lost\")\n",
    "\n",
    "df[\"door_1\"] = door_1\n",
    "df[\"door_2\"] = door_2\n",
    "df[\"door_3\"] = door_3\n",
    "df[\"opened_door\"] = opened_door\n",
    "df[\"initial_choice\"] = initial_choice\n",
    "df[\"final_choice\"] = final_choice\n",
    "df[\"win\"] = win"
   ]
  },
  {
   "cell_type": "markdown",
   "metadata": {
    "id": "ES8yLiAV63Le"
   },
   "source": [
    "2. <h5>Sticking to the same choice in each game</h5>"
   ]
  },
  {
   "cell_type": "code",
   "execution_count": 4,
   "metadata": {
    "ExecuteTime": {
     "end_time": "2023-02-07T14:39:04.117123Z",
     "start_time": "2023-02-07T14:39:03.947008Z"
    },
    "colab": {
     "base_uri": "https://localhost:8080/"
    },
    "id": "lWSzWoerlowc",
    "outputId": "c54337aa-2df0-4d9d-e92b-6b749aa25bd9"
   },
   "outputs": [
    {
     "name": "stderr",
     "output_type": "stream",
     "text": [
      "100%|█████████████████████████████████████████████████████████████████████████| 10000/10000 [00:00<00:00, 83855.56it/s]\n"
     ]
    }
   ],
   "source": [
    "df_1 = pd.DataFrame(columns = [\"door_1\" , \"door_2\" , \"door_3\" , \"opened_door\" , \"initial_choice\" , \"final_choice\" , \"win\"])\n",
    "\n",
    "door_1 = []\n",
    "door_2 = []\n",
    "door_3 = []\n",
    "opened_door = []\n",
    "initial_choice = []\n",
    "final_choice = []\n",
    "win = []\n",
    "\n",
    "doors = 3\n",
    "for i in tqdm(range(1,10001)):\n",
    "    G = GAME(numberOfDoors = doors , randomSelect = True)\n",
    "    G.openDoors()\n",
    "\n",
    "    door_1.append(0 if (G.game[1][1] == \"goat\") else 1)\n",
    "    door_2.append(0 if (G.game[2][1] == \"goat\") else 1)\n",
    "    door_3.append(0 if (G.game[3][1] == \"goat\") else 1)\n",
    "\n",
    "    for i in range(1,doors+1):\n",
    "        if(G.game[i][0] == False):\n",
    "            opened_door.append(i)\n",
    "\n",
    "    initial_choice.append(G.choice)\n",
    "    # G.changeChoice()\n",
    "    final_choice.append(G.choice)\n",
    "\n",
    "    win.append(\"won\" if(G.game[G.choice][1] == \"car\") else \"lost\")\n",
    "\n",
    "df_1[\"door_1\"] = door_1\n",
    "df_1[\"door_2\"] = door_2\n",
    "df_1[\"door_3\"] = door_3\n",
    "df_1[\"opened_door\"] = opened_door\n",
    "df_1[\"initial_choice\"] = initial_choice\n",
    "df_1[\"final_choice\"] = final_choice\n",
    "df_1[\"win\"] = win"
   ]
  },
  {
   "cell_type": "markdown",
   "metadata": {
    "id": "9WsrcXHa7DzF"
   },
   "source": [
    "<h4>Visualizing Wins and Losses in both cases</h4>"
   ]
  },
  {
   "cell_type": "code",
   "execution_count": 5,
   "metadata": {
    "ExecuteTime": {
     "end_time": "2023-02-07T14:39:04.492463Z",
     "start_time": "2023-02-07T14:39:04.119094Z"
    },
    "colab": {
     "base_uri": "https://localhost:8080/",
     "height": 577
    },
    "id": "UkTQw1OyCyzW",
    "outputId": "c729189a-d598-4bc0-99e5-2ab87abc383a"
   },
   "outputs": [
    {
     "data": {
      "image/png": "[encoded data removed]",
      "text/plain": [
       "<Figure size 500x500 with 2 Axes>"
      ]
     },
     "metadata": {},
     "output_type": "display_data"
    }
   ],
   "source": [
    "fig, ax = plt.subplots(nrows=1,ncols=2, figsize=(5, 5))\n",
    "fig.tight_layout(pad=5.0)\n",
    "sns.set_style(\"darkgrid\")\n",
    "sns.countplot(data = df , x = \"win\" , order=[\"won\" , \"lost\"] , ax=ax[0])\n",
    "sns.countplot(data = df_1 , x = \"win\" , order=[\"won\" , \"lost\"] , ax=ax[1])\n",
    "\n",
    "ax[0].set_title(\"Change Choice\")\n",
    "ax[1].set_title(\"Same Choice\")\n",
    "\n",
    "plt.show()"
   ]
  },
  {
   "cell_type": "code",
   "execution_count": 6,
   "metadata": {
    "ExecuteTime": {
     "end_time": "2023-02-07T14:39:04.508371Z",
     "start_time": "2023-02-07T14:39:04.495369Z"
    },
    "colab": {
     "base_uri": "https://localhost:8080/"
    },
    "id": "RmVykqMSDfIG",
    "outputId": "964d46ee-1fdf-4667-d426-31aa8c98633a"
   },
   "outputs": [
    {
     "name": "stdout",
     "output_type": "stream",
     "text": [
      "won     6648\n",
      "lost    3352\n",
      "Name: win, dtype: int64\n",
      "lost    6621\n",
      "won     3379\n",
      "Name: win, dtype: int64\n"
     ]
    }
   ],
   "source": [
    "print(df[\"win\"].value_counts())\n",
    "print(df_1[\"win\"].value_counts())"
   ]
  },
  {
   "cell_type": "markdown",
   "metadata": {
    "id": "SA3gS5zrCWze"
   },
   "source": [
    "According to the theory, the winning probability if the choice is changed is 2/3 and the winning probability if we stick to the same choice is 1/3, which can be clearly observed. \n",
    "> In 10000 games if we changed choice \n",
    "1. 6649 Wins\n",
    "2. 3351 Losses \n",
    "\n",
    "> In 10000 games if we stick to the same choice\n",
    "1. 3322 Wins\n",
    "2. 6678 Losses"
   ]
  },
  {
   "cell_type": "markdown",
   "metadata": {
    "id": "IPXgIVp4-HDN"
   },
   "source": [
    "Now, what happens if we increase the number of doors?"
   ]
  },
  {
   "cell_type": "markdown",
   "metadata": {
    "id": "jYeABTLY9zkF"
   },
   "source": [
    "<center><b><h3>Game with 5 doors & 3 door is opened after having made choice.</h3></b></center>"
   ]
  },
  {
   "cell_type": "markdown",
   "metadata": {
    "id": "0I-3MKPw-yGc"
   },
   "source": [
    "<h4>Simulating Game 100000 times & switching choice each time</h4>"
   ]
  },
  {
   "cell_type": "code",
   "execution_count": 7,
   "metadata": {
    "ExecuteTime": {
     "end_time": "2023-02-07T14:39:06.412744Z",
     "start_time": "2023-02-07T14:39:04.513320Z"
    },
    "colab": {
     "base_uri": "https://localhost:8080/"
    },
    "id": "A1Se9j5QsqYM",
    "outputId": "91d54016-aa2f-494d-88b8-36b5417e898c"
   },
   "outputs": [
    {
     "name": "stderr",
     "output_type": "stream",
     "text": [
      "100%|███████████████████████████████████████████████████████████████████████| 100000/100000 [00:01<00:00, 55739.24it/s]\n"
     ]
    }
   ],
   "source": [
    "df = pd.DataFrame()\n",
    "\n",
    "initial_choice = []\n",
    "final_choice = []\n",
    "win = []\n",
    "\n",
    "doors = 5\n",
    "for i in tqdm(range(1,100001)):\n",
    "    G = GAME(numberOfDoors = doors , randomSelect = True)\n",
    "    G.openDoors()\n",
    "\n",
    "    initial_choice.append(G.choice)\n",
    "    G.changeChoice()\n",
    "    final_choice.append(G.choice)\n",
    "\n",
    "    win.append(\"won\" if(G.game[G.choice][1] == \"car\") else \"lost\")\n",
    "\n",
    "df[\"initial_choice\"] = initial_choice\n",
    "df[\"final_choice\"] = final_choice\n",
    "df[\"win\"] = win\n"
   ]
  },
  {
   "cell_type": "code",
   "execution_count": 8,
   "metadata": {
    "ExecuteTime": {
     "end_time": "2023-02-07T14:39:06.570314Z",
     "start_time": "2023-02-07T14:39:06.415175Z"
    },
    "colab": {
     "base_uri": "https://localhost:8080/",
     "height": 606
    },
    "id": "YS5ptxhLs7pZ",
    "outputId": "6e6623ea-e083-4efc-8eeb-531f655c1219"
   },
   "outputs": [
    {
     "data": {
      "image/png": "[encoded data removed]",
      "text/plain": [
       "<Figure size 500x500 with 1 Axes>"
      ]
     },
     "metadata": {},
     "output_type": "display_data"
    }
   ],
   "source": [
    "fig, ax = plt.subplots(figsize=(5, 5))\n",
    "sns.set_style(\"darkgrid\")\n",
    "sns.countplot(data = df , x = \"win\" , order=[\"won\" , \"lost\"])\n",
    "\n",
    "plt.show()"
   ]
  },
  {
   "cell_type": "code",
   "execution_count": 9,
   "metadata": {
    "ExecuteTime": {
     "end_time": "2023-02-07T14:39:06.586249Z",
     "start_time": "2023-02-07T14:39:06.572282Z"
    },
    "colab": {
     "base_uri": "https://localhost:8080/"
    },
    "id": "x31hWIDdHdVT",
    "outputId": "300a2935-2c83-4449-c24c-69a58f1d9ec8"
   },
   "outputs": [
    {
     "name": "stdout",
     "output_type": "stream",
     "text": [
      "won     79885\n",
      "lost    20115\n",
      "Name: win, dtype: int64\n"
     ]
    }
   ],
   "source": [
    "print(df[\"win\"].value_counts())"
   ]
  },
  {
   "cell_type": "markdown",
   "metadata": {
    "id": "WYUOCVAwFsPj"
   },
   "source": [
    "According to the theory, the winning probabililty for total doors N=5 and opened doors p=3, if the choice is changed is \n",
    "\n",
    "<center>1/N * (N-1)/(N-p-1)<br>\n",
    "1/5 * (5-1)/(5-3-1)<br>\n",
    "=4/5</center>\n",
    "\n",
    "which can be clearly obsereved. \n",
    "\n",
    "> In 100000 games if we changed choice \n",
    "1. 79811 Wins\n",
    "2. 20189 Losses "
   ]
  },
  {
   "cell_type": "markdown",
   "metadata": {
    "id": "MEpdkfSX-7YU"
   },
   "source": [
    "<center><b><h3>Game with N doors & N-2 doors are opened after having made choice.</h3></b></center>"
   ]
  },
  {
   "cell_type": "markdown",
   "metadata": {
    "id": "7IHS1oi7-5Ml"
   },
   "source": [
    "<h4>Simulating Game 10000 times & switching choice each time</h4>"
   ]
  },
  {
   "cell_type": "code",
   "execution_count": 10,
   "metadata": {
    "ExecuteTime": {
     "end_time": "2023-02-07T14:41:09.767756Z",
     "start_time": "2023-02-07T14:39:06.589238Z"
    },
    "colab": {
     "base_uri": "https://localhost:8080/"
    },
    "id": "ocfYNjH_tSqt",
    "outputId": "084e7321-3cac-4ca5-d95d-a894d2d98a1d"
   },
   "outputs": [
    {
     "name": "stderr",
     "output_type": "stream",
     "text": [
      "100%|██████████████████████████████████████████████████████████████████████████████████| 97/97 [02:03<00:00,  1.27s/it]\n"
     ]
    }
   ],
   "source": [
    "data = pd.DataFrame(columns = [\"doors\" , \"wins\"])\n",
    "\n",
    "wins = []\n",
    "num_doors = []\n",
    "for doors in tqdm(range(3,100)):\n",
    "    win = 0\n",
    "    for i in range(1,10001):\n",
    "        G = GAME(numberOfDoors = doors , randomSelect = True)\n",
    "        G.openDoors()\n",
    "        G.changeChoice()\n",
    "        win += 1 if(G.game[G.choice][1] == \"car\") else 0\n",
    "\n",
    "    wins.append(win)\n",
    "    num_doors.append(doors)\n",
    "\n",
    "data[\"doors\"] = num_doors\n",
    "data[\"wins\"] = wins"
   ]
  },
  {
   "cell_type": "code",
   "execution_count": 11,
   "metadata": {
    "ExecuteTime": {
     "end_time": "2023-02-07T14:41:10.005654Z",
     "start_time": "2023-02-07T14:41:09.769719Z"
    },
    "colab": {
     "base_uri": "https://localhost:8080/",
     "height": 621
    },
    "id": "3bJL47wKwX__",
    "outputId": "a389fd39-8c21-477c-f064-8249d27d67ba"
   },
   "outputs": [
    {
     "data": {
      "image/png": "[encoded data removed]",
      "text/plain": [
       "<Figure size 500x500 with 1 Axes>"
      ]
     },
     "metadata": {},
     "output_type": "display_data"
    }
   ],
   "source": [
    "fig, ax = plt.subplots(figsize=(5,5))\n",
    "sns.set_style(\"darkgrid\")\n",
    "sns.lineplot(data = data , y = \"wins\" , x = \"doors\")\n",
    "plt.title(\"number_of_Doors VS number_of_wins\")\n",
    "plt.show()"
   ]
  },
  {
   "cell_type": "markdown",
   "metadata": {
    "id": "ke9lidzRIBHD"
   },
   "source": [
    "To understand this, we look at the winning probabililty according to the theory - \n",
    "<center>P = 1/N * (N-1)/(N-p-1)<br>\n",
    "= 1/N * (N-1)/(N-(N-2)-1)<br>\n",
    "= 1/N * (N-1)/(N-N+2-1)<br>\n",
    "= 1/N * (N-1)<br>\n",
    "= 1 - 1/N <br>\n",
    "</center>\n",
    "\n",
    "Therefore, as the number of doors N increase the probability of winning also increases. And when N = &infin; the winning probability becomes equal to 1.\n"
   ]
  },
  {
   "cell_type": "markdown",
   "metadata": {
    "id": "YJgEu9a8Aa1s"
   },
   "source": [
    "<center><b><h3>Game with 100 doors & K doors are opened after having made choice.</h3></b></center>"
   ]
  },
  {
   "cell_type": "markdown",
   "metadata": {
    "id": "cMdcehC3AqcE"
   },
   "source": [
    "<h4>Simulating Game 10000 times & switching choice each time</h4>"
   ]
  },
  {
   "cell_type": "code",
   "execution_count": 12,
   "metadata": {
    "ExecuteTime": {
     "end_time": "2023-02-07T14:44:19.742786Z",
     "start_time": "2023-02-07T14:41:10.006632Z"
    },
    "colab": {
     "base_uri": "https://localhost:8080/"
    },
    "id": "_48yn1y4AiX_",
    "outputId": "81fb2d9c-9191-47a6-888e-355d25faaca5"
   },
   "outputs": [
    {
     "name": "stderr",
     "output_type": "stream",
     "text": [
      "100%|██████████████████████████████████████████████████████████████████████████████████| 98/98 [03:09<00:00,  1.94s/it]\n"
     ]
    }
   ],
   "source": [
    "data = pd.DataFrame(columns = [\"doors_opened\" , \"wins\"])\n",
    "\n",
    "wins = []\n",
    "num_doors_opened = []\n",
    "for doors_opened in tqdm(range(1,99)):\n",
    "    win = 0\n",
    "    for i in range(1,10001):\n",
    "        G = GAME(numberOfDoors = 100 , randomSelect = True ,  openLessDoors = True , numberOfDoorsToOpen = doors_opened)\n",
    "        G.openDoors()\n",
    "        G.changeChoice()\n",
    "        win += 1 if(G.game[G.choice][1] == \"car\") else 0\n",
    "\n",
    "    wins.append(win)\n",
    "    num_doors_opened.append(doors_opened)\n",
    "\n",
    "data[\"doors_opened\"] = num_doors_opened\n",
    "data[\"wins\"] = wins"
   ]
  },
  {
   "cell_type": "code",
   "execution_count": 13,
   "metadata": {
    "ExecuteTime": {
     "end_time": "2023-02-07T14:44:19.993217Z",
     "start_time": "2023-02-07T14:44:19.744751Z"
    },
    "colab": {
     "base_uri": "https://localhost:8080/",
     "height": 622
    },
    "id": "_7WkMasHBkpM",
    "outputId": "ad686d62-a226-444a-f7af-352cec8068b8"
   },
   "outputs": [
    {
     "data": {
      "image/png": "[encoded data removed]",
      "text/plain": [
       "<Figure size 500x500 with 1 Axes>"
      ]
     },
     "metadata": {},
     "output_type": "display_data"
    }
   ],
   "source": [
    "fig, ax = plt.subplots(figsize=(5, 5))\n",
    "sns.set_style(\"darkgrid\")\n",
    "sns.lineplot(data = data , y = \"wins\" , x = \"doors_opened\")\n",
    "plt.title(\"number_of_Doors_opened VS number_of_wins\")\n",
    "plt.show()"
   ]
  },
  {
   "cell_type": "markdown",
   "metadata": {
    "id": "KKZ09jIBH-Ej"
   },
   "source": [
    "To understand this, we look at the winning probabililty according to the theory where N = 100 and p = k \n",
    "<center>P = 1/100 * (100-1)/(100-k-1)<br>\n",
    "= 1/100 * (99)/(99-k)<br>\n",
    "= 0.99/(99-k)<br>\n",
    "</center>\n",
    "\n",
    "Therefore, as the number of doors opened k increase the probability of winning also increases but slowly. And when k = 98; the winning probability becomes equal to 0.99."
   ]
  }
 ],
 "metadata": {
  "colab": {
   "provenance": []
  },
  "kernelspec": {
   "display_name": "Python 3",
   "language": "python",
   "name": "python3"
  },
  "language_info": {
   "codemirror_mode": {
    "name": "ipython",
    "version": 3
   },
   "file_extension": ".py",
   "mimetype": "text/x-python",
   "name": "python",
   "nbconvert_exporter": "python",
   "pygments_lexer": "ipython3",
   "version": "3.8.5"
  },
  "latex_envs": {
   "LaTeX_envs_menu_present": true,
   "autoclose": false,
   "autocomplete": true,
   "bibliofile": "biblio.bib",
   "cite_by": "apalike",
   "current_citInitial": 1,
   "eqLabelWithNumbers": true,
   "eqNumInitial": 1,
   "hotkeys": {
    "equation": "Ctrl-E",
    "itemize": "Ctrl-I"
   },
   "labels_anchors": false,
   "latex_user_defs": false,
   "report_style_numbering": false,
   "user_envs_cfg": false
  },
  "toc": {
   "base_numbering": 1,
   "nav_menu": {},
   "number_sections": false,
   "sideBar": true,
   "skip_h1_title": false,
   "title_cell": "Table of Contents",
   "title_sidebar": "Contents",
   "toc_cell": false,
   "toc_position": {
    "height": "calc(100% - 180px)",
    "left": "10px",
    "top": "150px",
    "width": "294.237px"
   },
   "toc_section_display": true,
   "toc_window_display": true
  },
  "varInspector": {
   "cols": {
    "lenName": 16,
    "lenType": 16,
    "lenVar": 40
   },
   "kernels_config": {
    "python": {
     "delete_cmd_postfix": "",
     "delete_cmd_prefix": "del ",
     "library": "var_list.py",
     "varRefreshCmd": "print(var_dic_list())"
    },
    "r": {
     "delete_cmd_postfix": ") ",
     "delete_cmd_prefix": "rm(",
     "library": "var_list.r",
     "varRefreshCmd": "cat(var_dic_list()) "
    }
   },
   "types_to_exclude": [
    "module",
    "function",
    "builtin_function_or_method",
    "instance",
    "_Feature"
   ],
   "window_display": false
  }
 },
 "nbformat": 4,
 "nbformat_minor": 1
}
